{
 "cells": [
  {
   "cell_type": "code",
   "execution_count": 12,
   "id": "a56bce8a",
   "metadata": {},
   "outputs": [
    {
     "data": {
      "application/javascript": [
       "IPython.notebook.get_cells().map( function(c) {  return c.code_mirror.options.cursorBlinkRate=0;  } );\n",
       "CodeMirror.defaults.cursorBlinkRate=0;\n"
      ],
      "text/plain": [
       "<IPython.core.display.Javascript object>"
      ]
     },
     "metadata": {},
     "output_type": "display_data"
    }
   ],
   "source": [
    "%%javascript\n",
    "IPython.notebook.get_cells().map( function(c) {  return c.code_mirror.options.cursorBlinkRate=0;  } );\n",
    "CodeMirror.defaults.cursorBlinkRate=0;"
   ]
  },
  {
   "cell_type": "markdown",
   "id": "67f2ac90",
   "metadata": {},
   "source": [
    "# COCOA Examples"
   ]
  },
  {
   "cell_type": "markdown",
   "id": "f0f4eb72",
   "metadata": {},
   "source": [
    "Running COCOA using its docker image. If you haven't pulled the image yet, you can use\n",
    "\n",
    "    docker pull --name cocoa ghcr.io/cocoa-hep/cocoa-hep:main\n",
    "    docker tag ghcr.io/cocoa-hep/cocoa-hep:main cocoa\n",
    "    sudo docker image rm ghcr.io/cocoa-hep/cocoa-hep:main\n",
    "\n",
    "to do so and restart this notebook.\n",
    "\n",
    "# Linux and permissions\n",
    "\n",
    "On Linux you might need to prepare user permissions to run the docker client as done below. One way do do this is to\n",
    "\n",
    "    sudo groupadd docker\n",
    "    sudo gpasswd -a $USER docker\n",
    "    newgrp docker"
   ]
  },
  {
   "cell_type": "code",
   "execution_count": 113,
   "id": "342aa762",
   "metadata": {},
   "outputs": [],
   "source": [
    "import docker\n",
    "\n",
    "client = docker.from_env()\n",
    "\n",
    "cmd1 = \"cd /root/COCOA/COCOA\"\n",
    "cmd2 = \"/root/COCOA/build/COCOA -c config/config_default.json -m macro/Pythia8/ChargedPion_monochromatic_isotropic.in -n 100 -o /root/COCOA/pions.root\"\n",
    "cmd3 = \"cp /root/COCOA/pions.root /mnt/host_tmp\"\n",
    "\n",
    "command = 'bash -c \"{} && {} && {}\"'.format(cmd1, cmd2, cmd3)"
   ]
  },
  {
   "cell_type": "code",
   "execution_count": 124,
   "id": "d9a39de1",
   "metadata": {},
   "outputs": [],
   "source": [
    "def run_cocoa(command, volumes, show_output = True):\n",
    "    container = client.containers.run(\"cocoa\", command=command, volumes = volumes, detach = True)\n",
    "    if show_output:\n",
    "        for line in container.logs(stream=True):\n",
    "            print(line)"
   ]
  },
  {
   "cell_type": "code",
   "execution_count": 127,
   "id": "ee6b1d5d",
   "metadata": {},
   "outputs": [],
   "source": [
    "run_cocoa( command, [\"/tmp:/mnt/host_tmp\"], False )"
   ]
  },
  {
   "cell_type": "code",
   "execution_count": 126,
   "id": "7466c218",
   "metadata": {},
   "outputs": [],
   "source": [
    "macro_single_photon = open(\"/tmp/photon.in\", \"w\")\n",
    "macro_single_photon.write(\"/generator/select pythia8\\n\")\n",
    "macro_single_photon.write(\"/generator/pythia8/verbose 0\\n\")\n",
    "macro_single_photon.write(\"/tracking/storeTrajectory 1\\n\")\n",
    "macro_single_photon.write(\"/generator/pythia8/QuarkGluon 22\\n\") # 22 = photon PDG id\n",
    "macro_single_photon.write(\"/generator/pythia8/minEnergy 20\\n\")\n",
    "macro_single_photon.write(\"/generator/pythia8/maxEnergy 20\\n\")\n",
    "macro_single_photon.write(\"/generator/pythia8/minEta -2.5\\n\")\n",
    "macro_single_photon.write(\"/generator/pythia8/maxEta 2.5\\n\")\n",
    "macro_single_photon.write(\"/run/beamOn 10\\n\")\n",
    "macro_single_photon.close()\n",
    "\n",
    "cmd1 = \"cp /mnt/host_tmp/photon.in /root/COCOA/COCOA\"\n",
    "cmd2 = \"cd /root/COCOA/COCOA\"\n",
    "cmd3 = \"/root/COCOA/build/COCOA -c config/config_default.json -m photon.in -n 100 -o /root/COCOA/photons.root\"\n",
    "cmd4 = \"cp /root/COCOA/photons.root /mnt/host_tmp\"\n",
    "\n",
    "command = 'bash -c \"{} && {} && {} && {}\"'.format(cmd1, cmd2, cmd3, cmd4)\n",
    "\n",
    "run_cocoa( command, [\"/tmp:/mnt/host_tmp\"], False )"
   ]
  },
  {
   "cell_type": "markdown",
   "id": "6a4e0cdf",
   "metadata": {},
   "source": [
    "# Example plots: cell vs. particle energy, $\\eta$ and $\\varphi$"
   ]
  },
  {
   "cell_type": "code",
   "execution_count": 108,
   "id": "6533e837",
   "metadata": {},
   "outputs": [],
   "source": [
    "import numpy as np\n",
    "import uproot\n",
    "\n",
    "# code duplication : to be made more efficient and safe\n",
    "\n",
    "pions_tree        = uproot.open(\"/tmp/pions.root:Out_Tree\")\n",
    "pions_cell_e      = pions_tree.arrays( [ \"cell_e\" ], library = \"np\" )\n",
    "pions_n_particles = pions_cell_e[\"cell_e\"].shape[0]\n",
    "pions_particle_e  = tree.arrays( [ \"particle_e\" ], library = \"np\" )\n",
    "pions_residual_e = [ pions_cell_e[\"cell_e\"][i_prt].sum() / pions_particle_e[\"particle_e\"][i_prt][0] - 1.0 for i_prt in range(pions_n_particles)]\n",
    "\n",
    "photons_tree        = uproot.open(\"/tmp/photons.root:Out_Tree\")\n",
    "photons_cell_e      = photons_tree.arrays( [ \"cell_e\" ], library = \"np\" )\n",
    "photons_n_particles = photons_cell_e[\"cell_e\"].shape[0]\n",
    "photons_particle_e  = tree.arrays( [ \"particle_e\" ], library = \"np\" )\n",
    "photons_residual_e = [ photons_cell_e[\"cell_e\"][i_prt].sum() / photons_particle_e[\"particle_e\"][i_prt][0] - 1.0 for i_prt in range(photons_n_particles)]"
   ]
  },
  {
   "cell_type": "code",
   "execution_count": 120,
   "id": "72ef1883",
   "metadata": {},
   "outputs": [],
   "source": [
    "import matplotlib.pyplot as plt\n",
    "\n",
    "%matplotlib inline\n",
    "plt.rcParams[\"figure.figsize\"] = (6.0, 6.0)  # set default size of plots\n",
    "plt.rcParams[\"image.interpolation\"] = \"nearest\"\n",
    "plt.rcParams[\"image.cmap\"] = \"gray\"\n",
    "plt.rcParams[\"figure.facecolor\"] = \"White\"\n",
    "plt.rcParams[\"font.size\"] = 12"
   ]
  },
  {
   "cell_type": "code",
   "execution_count": 123,
   "id": "166aaf5f",
   "metadata": {},
   "outputs": [
    {
     "data": {
      "image/png": "[encoded data removed]",
      "text/plain": [
       "<Figure size 600x600 with 1 Axes>"
      ]
     },
     "metadata": {},
     "output_type": "display_data"
    }
   ],
   "source": [
    "plt.hist(\n",
    "         pions_residual_e,\n",
    "         histtype=\"step\",\n",
    "         density=True,\n",
    "         label = \"Pions\"\n",
    ")\n",
    "\n",
    "plt.hist(\n",
    "         photons_residual_e,\n",
    "         histtype=\"step\",\n",
    "         density=True,\n",
    "         label = \"Photons\"\n",
    ")\n",
    "ax = plt.gca()\n",
    "ax.set(xlabel=\"( Sum( cell_e ) - particle_e ) /  particle_e\", ylabel=\"PDF\")\n",
    "ax.set_xlim(-1.0, 0.2)\n",
    "\n",
    "plt.legend()\n",
    "plt.tight_layout()\n",
    "plt.show()"
   ]
  },
  {
   "cell_type": "code",
   "execution_count": null,
   "id": "812a8752",
   "metadata": {},
   "outputs": [],
   "source": []
  }
 ],
 "metadata": {
  "kernelspec": {
   "display_name": "Python 3 (ipykernel)",
   "language": "python",
   "name": "python3"
  },
  "language_info": {
   "codemirror_mode": {
    "name": "ipython",
    "version": 3
   },
   "file_extension": ".py",
   "mimetype": "text/x-python",
   "name": "python",
   "nbconvert_exporter": "python",
   "pygments_lexer": "ipython3",
   "version": "3.8.17"
  }
 },
 "nbformat": 4,
 "nbformat_minor": 5
}
